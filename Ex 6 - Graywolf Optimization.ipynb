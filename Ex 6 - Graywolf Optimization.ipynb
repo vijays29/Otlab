{
 "cells": [
  {
   "cell_type": "code",
   "execution_count": 1,
   "id": "2f93df64",
   "metadata": {},
   "outputs": [
    {
     "name": "stdout",
     "output_type": "stream",
     "text": [
      "Starting Gray Wolf Optimization algorithm\n",
      "\n",
      "Iter = 10 best fitness = 0.012 Best position = ['-0.044360', '0.084065', '-0.050042']\n",
      "Iter = 20 best fitness = 0.000 Best position = ['-0.004129', '0.005473', '0.000494']\n",
      "Iter = 30 best fitness = 0.000 Best position = ['-0.001647', '0.001247', '-0.000390']\n",
      "Iter = 40 best fitness = 0.000 Best position = ['-0.000896', '0.001025', '-0.000212']\n",
      "\n",
      "Gray Wolf Optimization algorithm completed\n",
      "\n",
      "\n",
      "Best solution found:\n",
      "['-0.000871', '0.000903', '-0.000206']\n",
      "Fitness of the best solution = 0.000002\n"
     ]
    }
   ],
   "source": [
    "import random\n",
    "import copy\n",
    "\n",
    "def fitness_sphere(position):\n",
    "    fitness_value = 0.0\n",
    "    for i in range(len(position)):\n",
    "        xi = position[i]\n",
    "        fitness_value += (xi * xi)\n",
    "    return fitness_value\n",
    "\n",
    "class wolf:\n",
    "    def __init__(self, fitness, dim, minx, maxx, seed):\n",
    "        self.rnd = random.Random(seed)\n",
    "        self.position = [0.0 for i in range(dim)]\n",
    "        for i in range(dim):\n",
    "            self.position[i] = ((maxx - minx) * self.rnd.random() + minx)\n",
    "        self.fitness = fitness(self.position)\n",
    "\n",
    "def gwo(fitness, max_iter, n, dim, minx, maxx):\n",
    "    rnd = random.Random(0)\n",
    "    population = [wolf(fitness, dim, minx, maxx, i) for i in range(n)]\n",
    "    population = sorted(population, key=lambda temp: temp.fitness)\n",
    "    alpha_wolf, beta_wolf, gamma_wolf = copy.copy(population[:3])\n",
    "    Iter = 0\n",
    "    while Iter < max_iter:\n",
    "        if Iter % 10 == 0 and Iter > 1:\n",
    "            print(\"Iter = \" + str(Iter) + \" best fitness = %.3f\" % alpha_wolf.fitness + \" Best position = \" + str(\n",
    "                [\"%.6f\" % alpha_wolf.position[k] for k in range(dim)]))\n",
    "        a = 2 * (1 - Iter / max_iter)\n",
    "        for i in range(n):\n",
    "            A1, A2, A3 = a * (2 * rnd.random() - 1), a * (2 * rnd.random() - 1), a * (2 * rnd.random() - 1)\n",
    "            C1, C2, C3 = 2 * rnd.random(), 2 * rnd.random(), 2 * rnd.random()\n",
    "            X1 = [0.0 for i in range(dim)]\n",
    "            X2 = [0.0 for i in range(dim)]\n",
    "            X3 = [0.0 for i in range(dim)]\n",
    "            Xnew = [0.0 for i in range(dim)]\n",
    "            for j in range(dim):\n",
    "                X1[j] = alpha_wolf.position[j] - A1 * abs(C1 * alpha_wolf.position[j] - population[i].position[j])\n",
    "                X2[j] = beta_wolf.position[j] - A2 * abs(C2 * beta_wolf.position[j] - population[i].position[j])\n",
    "                X3[j] = gamma_wolf.position[j] - A3 * abs(C3 * gamma_wolf.position[j] - population[i].position[j])\n",
    "                Xnew[j] += X1[j] + X2[j] + X3[j]\n",
    "            for j in range(dim):\n",
    "                Xnew[j] /= 3.0\n",
    "            fnew = fitness(Xnew)\n",
    "            if fnew < population[i].fitness:\n",
    "                population[i].position = Xnew\n",
    "                population[i].fitness = fnew\n",
    "        population = sorted(population, key=lambda temp: temp.fitness)\n",
    "        alpha_wolf, beta_wolf, gamma_wolf = copy.copy(population[:3])\n",
    "        Iter += 1\n",
    "    return alpha_wolf.position\n",
    "\n",
    "dim = 3\n",
    "fitness = fitness_sphere\n",
    "num_particles = 10\n",
    "max_iter = 50\n",
    "\n",
    "print(f'Starting Gray Wolf Optimization algorithm\\n')\n",
    "best_position = gwo(fitness, max_iter, num_particles, dim, -10.0, 10.0)\n",
    "print(f'\\nGray Wolf Optimization algorithm completed\\n')\n",
    "print(\"\\nBest solution found:\")\n",
    "print([\"%.6f\" % best_position[k] for k in range(dim)])\n",
    "err = fitness(best_position)\n",
    "print(\"Fitness of the best solution = %.6f\" % err)\n"
   ]
  },
  {
   "cell_type": "code",
   "execution_count": null,
   "id": "438a4290",
   "metadata": {},
   "outputs": [],
   "source": []
  }
 ],
 "metadata": {
  "kernelspec": {
   "display_name": "Python 3 (ipykernel)",
   "language": "python",
   "name": "python3"
  },
  "language_info": {
   "codemirror_mode": {
    "name": "ipython",
    "version": 3
   },
   "file_extension": ".py",
   "mimetype": "text/x-python",
   "name": "python",
   "nbconvert_exporter": "python",
   "pygments_lexer": "ipython3",
   "version": "3.11.5"
  }
 },
 "nbformat": 4,
 "nbformat_minor": 5
}
