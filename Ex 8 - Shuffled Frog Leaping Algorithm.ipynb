{
 "cells": [
  {
   "cell_type": "code",
   "execution_count": 3,
   "id": "6d1903dd",
   "metadata": {
    "scrolled": true
   },
   "outputs": [
    {
     "name": "stdout",
     "output_type": "stream",
     "text": [
      "Starting shuffled frog leaping algorithm \n",
      "\n",
      "iteration 10: best solution: [ 0.01536721 -0.10825944] score: 0.10934466962108379\n",
      "iteration 20: best solution: [-0.02077573 -0.21399954] score: 0.2150056600953304\n",
      "iteration 30: best solution: [-0.02077573 -0.21399954] score: 0.2150056600953304\n",
      "iteration 40: best solution: [0.00641519 0.01034858] score: 0.012175698869251394\n",
      "\n",
      "Shuffled frog leaping algorithm completed\n",
      "\n",
      "Best solution: [0.00739295 0.00303438] Score: 0.00799144037775475\n"
     ]
    }
   ],
   "source": [
    "import numpy as np\n",
    "\n",
    "def opt_func(value):\n",
    "    return np.sqrt((value ** 2).sum())\n",
    "\n",
    "def gen_frogs(frogs, dimension, sigma, mu):\n",
    "    return sigma * (np.random.randn(frogs, dimension)) + mu\n",
    "\n",
    "def sort_frogs(frogs, mplx_no, opt_func):\n",
    "    fitness = np.array(list(map(opt_func, frogs)))\n",
    "    sorted_fitness = np.argsort(fitness)\n",
    "    memeplexes = np.zeros((mplx_no, int(frogs.shape[0] / mplx_no)))\n",
    "    for j in range(memeplexes.shape[1]):\n",
    "        for i in range(mplx_no):\n",
    "            memeplexes[i, j] = sorted_fitness[i + (mplx_no * j)]\n",
    "    return memeplexes\n",
    "\n",
    "def local_search(frogs, memeplex, opt_func, sigma, mu):\n",
    "    frog_w = frogs[int(memeplex[-1])]\n",
    "    frog_b = frogs[int(memeplex[0])]\n",
    "    frog_g = frogs[0]\n",
    "    frog_w_new = frog_w + (np.random.rand() * (frog_b - frog_w))\n",
    "    if opt_func(frog_w_new) > opt_func(frog_w):\n",
    "        frog_w_new = frog_w + (np.random.rand() * (frog_g - frog_w))\n",
    "    if opt_func(frog_w_new) > opt_func(frog_w):\n",
    "        frog_w_new = gen_frogs(1, frogs.shape[1], sigma, mu)[0]\n",
    "    frogs[int(memeplex[-1])] = frog_w_new\n",
    "    return frogs\n",
    "\n",
    "def shuffle_memeplexes(frogs, memeplexes):\n",
    "    temp = memeplexes.flatten()\n",
    "    np.random.shuffle(temp)\n",
    "    temp = temp.reshape((memeplexes.shape[0], memeplexes.shape[1]))\n",
    "    return temp\n",
    "\n",
    "def sfla(opt_func, frogs=30, dimension=2, sigma=1, mu=0, mplx_no=5, mplx_iters=10, solun_iters=50):\n",
    "    frogs = gen_frogs(frogs, dimension, sigma, mu)\n",
    "    memeplexes = sort_frogs(frogs, mplx_no, opt_func)\n",
    "    best_solun = frogs[int(memeplexes[0, 0])]\n",
    "    for i in range(solun_iters):\n",
    "        if i % 10 == 0 and i > 1:\n",
    "            print(f'iteration {i}: best solution: {best_solun} score: {opt_func(best_solun)}')\n",
    "        memeplexes = shuffle_memeplexes(frogs, memeplexes)\n",
    "        for mplx_idx, memeplex in enumerate(memeplexes):\n",
    "            for j in range(mplx_iters):\n",
    "                frogs = local_search(frogs, memeplex, opt_func, sigma, mu)\n",
    "            memeplexes = sort_frogs(frogs, mplx_no, opt_func)\n",
    "            new_best_solun = frogs[int(memeplexes[0, 0])]\n",
    "            if opt_func(new_best_solun) < opt_func(best_solun):\n",
    "                best_solun = new_best_solun\n",
    "    return best_solun, frogs, memeplexes.astype(int)\n",
    "\n",
    "print(\"Starting shuffled frog leaping algorithm \\n\")\n",
    "solun, frogs, memeplexes = sfla(opt_func, 100, 2, 1, 0, 5, 25, 50)\n",
    "print(\"\\nShuffled frog leaping algorithm completed\")\n",
    "print(f'\\nBest solution: {solun} Score: {opt_func(solun)}')\n"
   ]
  }
 ],
 "metadata": {
  "kernelspec": {
   "display_name": "Python 3 (ipykernel)",
   "language": "python",
   "name": "python3"
  },
  "language_info": {
   "codemirror_mode": {
    "name": "ipython",
    "version": 3
   },
   "file_extension": ".py",
   "mimetype": "text/x-python",
   "name": "python",
   "nbconvert_exporter": "python",
   "pygments_lexer": "ipython3",
   "version": "3.11.5"
  }
 },
 "nbformat": 4,
 "nbformat_minor": 5
}
